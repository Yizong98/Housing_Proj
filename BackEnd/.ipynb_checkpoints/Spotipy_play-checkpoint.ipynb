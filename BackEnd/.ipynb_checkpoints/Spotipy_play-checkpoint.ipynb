{
 "cells": [
  {
   "cell_type": "code",
   "execution_count": 2,
   "metadata": {},
   "outputs": [
    {
     "name": "stdout",
     "output_type": "stream",
     "text": [
      "Collecting spotipy\n",
      "  Using cached https://files.pythonhosted.org/packages/7a/cd/e7d9a35216ea5bfb9234785f3d8fa7c96d0e33999c2cb72394128f6b4cce/spotipy-2.16.1-py3-none-any.whl\n",
      "Requirement already satisfied: six>=1.10.0 in /Users/yijianzong/anaconda3/lib/python3.7/site-packages (from spotipy) (1.11.0)\n",
      "Collecting requests>=2.20.0 (from spotipy)\n",
      "\u001b[?25l  Downloading https://files.pythonhosted.org/packages/29/c1/24814557f1d22c56d50280771a17307e6bf87b70727d975fd6b2ce6b014a/requests-2.25.1-py2.py3-none-any.whl (61kB)\n",
      "\u001b[K    100% |████████████████████████████████| 61kB 1.2MB/s ta 0:00:01\n",
      "\u001b[?25hRequirement already satisfied: chardet<5,>=3.0.2 in /Users/yijianzong/anaconda3/lib/python3.7/site-packages (from requests>=2.20.0->spotipy) (3.0.4)\n",
      "Requirement already satisfied: certifi>=2017.4.17 in /Users/yijianzong/anaconda3/lib/python3.7/site-packages (from requests>=2.20.0->spotipy) (2018.8.24)\n",
      "Requirement already satisfied: idna<3,>=2.5 in /Users/yijianzong/anaconda3/lib/python3.7/site-packages (from requests>=2.20.0->spotipy) (2.7)\n",
      "Requirement already satisfied: urllib3<1.27,>=1.21.1 in /Users/yijianzong/anaconda3/lib/python3.7/site-packages (from requests>=2.20.0->spotipy) (1.23)\n",
      "Installing collected packages: requests, spotipy\n",
      "  Found existing installation: requests 2.19.1\n",
      "    Uninstalling requests-2.19.1:\n",
      "      Successfully uninstalled requests-2.19.1\n",
      "Successfully installed requests-2.25.1 spotipy-2.16.1\n",
      "\u001b[33mYou are using pip version 19.0.1, however version 20.3.3 is available.\n",
      "You should consider upgrading via the 'pip install --upgrade pip' command.\u001b[0m\n"
     ]
    }
   ],
   "source": [
    "! pip install spotipy"
   ]
  },
  {
   "cell_type": "code",
   "execution_count": 23,
   "metadata": {},
   "outputs": [
    {
     "name": "stdout",
     "output_type": "stream",
     "text": [
      "0 Nocturne No.2 In E Flat, Op.9 No.2\n",
      "1 Chopin: Nocturne No. 20 in C-Sharp Minor, Op. Posth.\n",
      "2 Nocturne en mi bémol majeur opus 9 n°2: Ballade en Sol Mineur No.1\n",
      "3 Nocturnes, Op. 9: No. 2 in E-Flat Major\n",
      "4 Preludes, Op. 28: No. 15 in D-Flat Major. Sostenuto \"Raindrop\"\n",
      "5 Nocturnes, Op. 9: No. 2, Andante in E-Flat Major\n",
      "6 Waltzes, Op. 70: No. 1, Molto vivace in G-Flat Major\n",
      "7 Waltzes, Op. 64: No. 2, Tempo giusto in C-Sharp Minor\n",
      "8 Piano Concerto No. 1 in E Minor, Op. 11: II. Romanze (Larghetto)\n",
      "9 Piano Concerto No. 2 in F Minor, Op. 21: II. Larghetto\n",
      "10 Waltzes, Op. 69: No. 1, Lento in A-Flat Major\n",
      "11 Nocturnes, Op. 27: No. 2, Lento sostenuto in D-Flat Major\n",
      "12 Préludes, Op. 28: No. 15, Sostenuto in D-Flat Major \"Raindrop\"\n",
      "13 Waltzes, Op. 64: I. Molto vivace in D-Flat Major \"Minute Waltz\"\n",
      "14 Etudes, Op. 10: No. 5 in G-Flat Major\n",
      "15 Préludes, Op. 28: No. 15, Sostenuto in D-Flat Major \"Raindrop\"\n",
      "16 Nocturnes, Op. 9: No. 1, Larghetto in B-Flat Minor\n",
      "17 24 Préludes, Op. 28: No.4 in E minor - Largo\n",
      "18 Nocturne No. 19 in E Minor, Op. 72, No. 1\n",
      "19 Nocturne, Op. posth. in C-Sharp Minor: Lento\n"
     ]
    }
   ],
   "source": [
    "import spotipy\n",
    "from spotipy.oauth2 import SpotifyClientCredentials\n",
    "\n",
    "sp = spotipy.Spotify(auth_manager=SpotifyClientCredentials(client_id=\"90a6aa310e894f489bee434eb377e40f\",\n",
    "                                                           client_secret=\"0d2bd2f3823b4edd82e8b8a79f17e2f5\"))\n",
    "\n",
    "results = sp.search(q='artist:chopin', limit=20)\n",
    "#items = results['artists']['items']\n",
    "for idx, track in enumerate(results['tracks']['items']):\n",
    "    print(idx, track['name'])"
   ]
  },
  {
   "cell_type": "code",
   "execution_count": null,
   "metadata": {},
   "outputs": [],
   "source": []
  },
  {
   "cell_type": "code",
   "execution_count": 20,
   "metadata": {},
   "outputs": [
    {
     "data": {
      "text/plain": [
       "[{'external_urls': {'spotify': 'https://open.spotify.com/artist/7oPftvlwr6VrsViSDV7fJY'},\n",
       "  'followers': {'href': None, 'total': 11563468},\n",
       "  'genres': ['permanent wave', 'pop punk', 'punk'],\n",
       "  'href': 'https://api.spotify.com/v1/artists/7oPftvlwr6VrsViSDV7fJY',\n",
       "  'id': '7oPftvlwr6VrsViSDV7fJY',\n",
       "  'images': [{'height': 640,\n",
       "    'url': 'https://i.scdn.co/image/e0a127469d23c3959e80e82941bcaba0146472ae',\n",
       "    'width': 640},\n",
       "   {'height': 320,\n",
       "    'url': 'https://i.scdn.co/image/582266e61a4af24cc581e862b44ca68ca8483154',\n",
       "    'width': 320},\n",
       "   {'height': 160,\n",
       "    'url': 'https://i.scdn.co/image/0ecaed0f40a1677f10211c5a4eab426760bdb3cf',\n",
       "    'width': 160}],\n",
       "  'name': 'Green Day',\n",
       "  'popularity': 82,\n",
       "  'type': 'artist',\n",
       "  'uri': 'spotify:artist:7oPftvlwr6VrsViSDV7fJY'},\n",
       " {'external_urls': {'spotify': 'https://open.spotify.com/artist/2AHgX75CvTQlvTcDzYip8Z'},\n",
       "  'followers': {'href': None, 'total': 114},\n",
       "  'genres': [],\n",
       "  'href': 'https://api.spotify.com/v1/artists/2AHgX75CvTQlvTcDzYip8Z',\n",
       "  'id': '2AHgX75CvTQlvTcDzYip8Z',\n",
       "  'images': [{'height': 640,\n",
       "    'url': 'https://i.scdn.co/image/1eb7e414f591127577f49c7db50d59569d343703',\n",
       "    'width': 640},\n",
       "   {'height': 320,\n",
       "    'url': 'https://i.scdn.co/image/aaed6686b68a532ba385cd556d64aa0ca7841297',\n",
       "    'width': 320},\n",
       "   {'height': 160,\n",
       "    'url': 'https://i.scdn.co/image/e30369af1d66728eaa0803eab0219f6652f4e271',\n",
       "    'width': 160}],\n",
       "  'name': 'Green Day Mafia',\n",
       "  'popularity': 4,\n",
       "  'type': 'artist',\n",
       "  'uri': 'spotify:artist:2AHgX75CvTQlvTcDzYip8Z'},\n",
       " {'external_urls': {'spotify': 'https://open.spotify.com/artist/3QvxyrcO73dWMnu2UouDD8'},\n",
       "  'followers': {'href': None, 'total': 116},\n",
       "  'genres': [],\n",
       "  'href': 'https://api.spotify.com/v1/artists/3QvxyrcO73dWMnu2UouDD8',\n",
       "  'id': '3QvxyrcO73dWMnu2UouDD8',\n",
       "  'images': [{'height': 640,\n",
       "    'url': 'https://i.scdn.co/image/8d387a53580a70218d348b2721960419c136d604',\n",
       "    'width': 640},\n",
       "   {'height': 320,\n",
       "    'url': 'https://i.scdn.co/image/2e652dac419972729685e8e837dd923853c66920',\n",
       "    'width': 320},\n",
       "   {'height': 160,\n",
       "    'url': 'https://i.scdn.co/image/61d6fb325c20ce33fa2db710cdc2ef434831f679',\n",
       "    'width': 160}],\n",
       "  'name': 'Dayon Greene',\n",
       "  'popularity': 5,\n",
       "  'type': 'artist',\n",
       "  'uri': 'spotify:artist:3QvxyrcO73dWMnu2UouDD8'},\n",
       " {'external_urls': {'spotify': 'https://open.spotify.com/artist/0IEwf9CLqsoYg4M619nKpJ'},\n",
       "  'followers': {'href': None, 'total': 18},\n",
       "  'genres': [],\n",
       "  'href': 'https://api.spotify.com/v1/artists/0IEwf9CLqsoYg4M619nKpJ',\n",
       "  'id': '0IEwf9CLqsoYg4M619nKpJ',\n",
       "  'images': [{'height': 640,\n",
       "    'url': 'https://i.scdn.co/image/ab67616d0000b2733ce6b7ee96a34670324a832a',\n",
       "    'width': 640},\n",
       "   {'height': 300,\n",
       "    'url': 'https://i.scdn.co/image/ab67616d00001e023ce6b7ee96a34670324a832a',\n",
       "    'width': 300},\n",
       "   {'height': 64,\n",
       "    'url': 'https://i.scdn.co/image/ab67616d000048513ce6b7ee96a34670324a832a',\n",
       "    'width': 64}],\n",
       "  'name': 'Daye Greene',\n",
       "  'popularity': 0,\n",
       "  'type': 'artist',\n",
       "  'uri': 'spotify:artist:0IEwf9CLqsoYg4M619nKpJ'},\n",
       " {'external_urls': {'spotify': 'https://open.spotify.com/artist/1BBRZyp95UYggqaP0gTRSq'},\n",
       "  'followers': {'href': None, 'total': 0},\n",
       "  'genres': [],\n",
       "  'href': 'https://api.spotify.com/v1/artists/1BBRZyp95UYggqaP0gTRSq',\n",
       "  'id': '1BBRZyp95UYggqaP0gTRSq',\n",
       "  'images': [],\n",
       "  'name': 'Dayon Greene',\n",
       "  'popularity': 0,\n",
       "  'type': 'artist',\n",
       "  'uri': 'spotify:artist:1BBRZyp95UYggqaP0gTRSq'},\n",
       " {'external_urls': {'spotify': 'https://open.spotify.com/artist/4awz9e8Huf4AdaGRSoAj97'},\n",
       "  'followers': {'href': None, 'total': 921},\n",
       "  'genres': [],\n",
       "  'href': 'https://api.spotify.com/v1/artists/4awz9e8Huf4AdaGRSoAj97',\n",
       "  'id': '4awz9e8Huf4AdaGRSoAj97',\n",
       "  'images': [],\n",
       "  'name': 'Green Day',\n",
       "  'popularity': 1,\n",
       "  'type': 'artist',\n",
       "  'uri': 'spotify:artist:4awz9e8Huf4AdaGRSoAj97'},\n",
       " {'external_urls': {'spotify': 'https://open.spotify.com/artist/54iF2CcDSP2P8Os8QTzAW7'},\n",
       "  'followers': {'href': None, 'total': 2317},\n",
       "  'genres': [],\n",
       "  'href': 'https://api.spotify.com/v1/artists/54iF2CcDSP2P8Os8QTzAW7',\n",
       "  'id': '54iF2CcDSP2P8Os8QTzAW7',\n",
       "  'images': [{'height': 640,\n",
       "    'url': 'https://i.scdn.co/image/ab67616d0000b273f74cbe39ac89117c5a157c02',\n",
       "    'width': 640},\n",
       "   {'height': 300,\n",
       "    'url': 'https://i.scdn.co/image/ab67616d00001e02f74cbe39ac89117c5a157c02',\n",
       "    'width': 300},\n",
       "   {'height': 64,\n",
       "    'url': 'https://i.scdn.co/image/ab67616d00004851f74cbe39ac89117c5a157c02',\n",
       "    'width': 64}],\n",
       "  'name': 'All Day Green',\n",
       "  'popularity': 19,\n",
       "  'type': 'artist',\n",
       "  'uri': 'spotify:artist:54iF2CcDSP2P8Os8QTzAW7'},\n",
       " {'external_urls': {'spotify': 'https://open.spotify.com/artist/4aZon4k8lC62BmNCORUWaS'},\n",
       "  'followers': {'href': None, 'total': 137},\n",
       "  'genres': [],\n",
       "  'href': 'https://api.spotify.com/v1/artists/4aZon4k8lC62BmNCORUWaS',\n",
       "  'id': '4aZon4k8lC62BmNCORUWaS',\n",
       "  'images': [{'height': 640,\n",
       "    'url': 'https://i.scdn.co/image/ab67616d0000b2734c9cd78f0e89375605794e09',\n",
       "    'width': 640},\n",
       "   {'height': 300,\n",
       "    'url': 'https://i.scdn.co/image/ab67616d00001e024c9cd78f0e89375605794e09',\n",
       "    'width': 300},\n",
       "   {'height': 64,\n",
       "    'url': 'https://i.scdn.co/image/ab67616d000048514c9cd78f0e89375605794e09',\n",
       "    'width': 64}],\n",
       "  'name': 'Keith Greeninger & Dayan Kai',\n",
       "  'popularity': 2,\n",
       "  'type': 'artist',\n",
       "  'uri': 'spotify:artist:4aZon4k8lC62BmNCORUWaS'},\n",
       " {'external_urls': {'spotify': 'https://open.spotify.com/artist/2JqgNNObF8FkN5Hc75KNZy'},\n",
       "  'followers': {'href': None, 'total': 419},\n",
       "  'genres': [],\n",
       "  'href': 'https://api.spotify.com/v1/artists/2JqgNNObF8FkN5Hc75KNZy',\n",
       "  'id': '2JqgNNObF8FkN5Hc75KNZy',\n",
       "  'images': [{'height': 640,\n",
       "    'url': 'https://i.scdn.co/image/ab67616d0000b27361bfdf5af01e71f8c30a4ae3',\n",
       "    'width': 640},\n",
       "   {'height': 300,\n",
       "    'url': 'https://i.scdn.co/image/ab67616d00001e0261bfdf5af01e71f8c30a4ae3',\n",
       "    'width': 300},\n",
       "   {'height': 64,\n",
       "    'url': 'https://i.scdn.co/image/ab67616d0000485161bfdf5af01e71f8c30a4ae3',\n",
       "    'width': 64}],\n",
       "  'name': 'Day Green Players',\n",
       "  'popularity': 5,\n",
       "  'type': 'artist',\n",
       "  'uri': 'spotify:artist:2JqgNNObF8FkN5Hc75KNZy'},\n",
       " {'external_urls': {'spotify': 'https://open.spotify.com/artist/4H5yDkkExDaQ6J483FOH82'},\n",
       "  'followers': {'href': None, 'total': 30},\n",
       "  'genres': [],\n",
       "  'href': 'https://api.spotify.com/v1/artists/4H5yDkkExDaQ6J483FOH82',\n",
       "  'id': '4H5yDkkExDaQ6J483FOH82',\n",
       "  'images': [],\n",
       "  'name': 'Green for a day',\n",
       "  'popularity': 0,\n",
       "  'type': 'artist',\n",
       "  'uri': 'spotify:artist:4H5yDkkExDaQ6J483FOH82'},\n",
       " {'external_urls': {'spotify': 'https://open.spotify.com/artist/4ckDvtdZwgGOcPWx4wiGwl'},\n",
       "  'followers': {'href': None, 'total': 52},\n",
       "  'genres': [],\n",
       "  'href': 'https://api.spotify.com/v1/artists/4ckDvtdZwgGOcPWx4wiGwl',\n",
       "  'id': '4ckDvtdZwgGOcPWx4wiGwl',\n",
       "  'images': [],\n",
       "  'name': 'Green Day, Base Karaoke + Choirs',\n",
       "  'popularity': 0,\n",
       "  'type': 'artist',\n",
       "  'uri': 'spotify:artist:4ckDvtdZwgGOcPWx4wiGwl'},\n",
       " {'external_urls': {'spotify': 'https://open.spotify.com/artist/6AASiqCUdbKSfIrUg87wBc'},\n",
       "  'followers': {'href': None, 'total': 15},\n",
       "  'genres': [],\n",
       "  'href': 'https://api.spotify.com/v1/artists/6AASiqCUdbKSfIrUg87wBc',\n",
       "  'id': '6AASiqCUdbKSfIrUg87wBc',\n",
       "  'images': [],\n",
       "  'name': 'Karaoke Soundtrack - Originally performed by Green Day',\n",
       "  'popularity': 0,\n",
       "  'type': 'artist',\n",
       "  'uri': 'spotify:artist:6AASiqCUdbKSfIrUg87wBc'}]"
      ]
     },
     "execution_count": 20,
     "metadata": {},
     "output_type": "execute_result"
    }
   ],
   "source": [
    "items"
   ]
  },
  {
   "cell_type": "code",
   "execution_count": 18,
   "metadata": {},
   "outputs": [],
   "source": [
    "# genres => artists => albums => songs\n",
    "! curl \"https://www.facebook.com/v9.0/dialog/oauth?client_id=1302030239939119&redirect_uri=http://localhost:3000/&state={1234567}\""
   ]
  },
  {
   "cell_type": "code",
   "execution_count": 24,
   "metadata": {},
   "outputs": [
    {
     "name": "stdout",
     "output_type": "stream",
     "text": [
      "{\"error\":{\"message\":\"Invalid verification code format.\",\"type\":\"OAuthException\",\"code\":100,\"fbtrace_id\":\"Amwo0EEMP1VTNHdM3v4qtI9\"}}"
     ]
    }
   ],
   "source": [
    "! Curl \"\"\"https://graph.facebook.com/v9.0/oauth/access_token?client_id=1302030239939119&redirect_uri=http://localhost:3000/&client_secret=3d9ad77b3d89611dd1cc01fd0a1edd4f&code=EAASgMInwOi8BAJdWUYZC2GrwtRXkkWfKZAak9WZBzvLA4WYNhUFzxAhdM41ifEJ6pAgAPvZAct9R63aubJBt5imdPw9WJH3i6k6oV8lq9sZCVchpjgu5oPiMqKxxYmPypmZCDyqmIGVy3KoDcEZAukIbvlnP6cqsXzqAvteUfb4herzcChWTsCchwUETZAICblEn8tzFsOJAeQZDZD\"\"\"\n"
   ]
  },
  {
   "cell_type": "code",
   "execution_count": null,
   "metadata": {},
   "outputs": [],
   "source": [
    "EAASgMInwOi8BAJdWUYZC2GrwtRXkkWfKZAak9WZBzvLA4WYNhUFzxAhdM41ifEJ6pAgAPvZAct9R63aubJBt5imdPw9WJH3i6k6oV8lq9sZCVchpjgu5oPiMqKxxYmPypmZCDyqmIGVy3KoDcEZAukIbvlnP6cqsXzqAvteUfb4herzcChWTsCchwUETZAICblEn8tzFsOJAeQZDZD"
   ]
  },
  {
   "cell_type": "code",
   "execution_count": 9,
   "metadata": {},
   "outputs": [
    {
     "name": "stdout",
     "output_type": "stream",
     "text": [
      "Collecting facebook-sdk\n",
      "  Using cached https://files.pythonhosted.org/packages/79/d7/4cb0f5930f79205cc45db22e17fa716396d813c3d6b8d5de77783a5fa59a/facebook_sdk-3.1.0-py2.py3-none-any.whl\n",
      "Requirement already satisfied: requests in /Users/yijianzong/anaconda3/lib/python3.7/site-packages (from facebook-sdk) (2.25.1)\n",
      "Requirement already satisfied: idna<3,>=2.5 in /Users/yijianzong/anaconda3/lib/python3.7/site-packages (from requests->facebook-sdk) (2.7)\n",
      "Requirement already satisfied: urllib3<1.27,>=1.21.1 in /Users/yijianzong/anaconda3/lib/python3.7/site-packages (from requests->facebook-sdk) (1.23)\n",
      "Requirement already satisfied: chardet<5,>=3.0.2 in /Users/yijianzong/anaconda3/lib/python3.7/site-packages (from requests->facebook-sdk) (3.0.4)\n",
      "Requirement already satisfied: certifi>=2017.4.17 in /Users/yijianzong/anaconda3/lib/python3.7/site-packages (from requests->facebook-sdk) (2018.8.24)\n",
      "Installing collected packages: facebook-sdk\n",
      "Successfully installed facebook-sdk-3.1.0\n",
      "\u001b[33mYou are using pip version 19.0.1, however version 20.3.3 is available.\n",
      "You should consider upgrading via the 'pip install --upgrade pip' command.\u001b[0m\n"
     ]
    }
   ],
   "source": [
    "! pip install facebook-sdk"
   ]
  },
  {
   "cell_type": "code",
   "execution_count": 25,
   "metadata": {},
   "outputs": [],
   "source": [
    "import facebook\n",
    "\n",
    "graph = facebook.GraphAPI(access_token=\"EAASgMInwOi8BAJdWUYZC2GrwtRXkkWfKZAak9WZBzvLA4WYNhUFzxAhdM41ifEJ6pAgAPvZAct9R63aubJBt5imdPw9WJH3i6k6oV8lq9sZCVchpjgu5oPiMqKxxYmPypmZCDyqmIGVy3KoDcEZAukIbvlnP6cqsXzqAvteUfb4herzcChWTsCchwUETZAICblEn8tzFsOJAeQZDZD\", version=\"2.12\")"
   ]
  },
  {
   "cell_type": "code",
   "execution_count": 26,
   "metadata": {},
   "outputs": [],
   "source": [
    "friends = graph.get_connections(id='me', connection_name='friends')"
   ]
  },
  {
   "cell_type": "code",
   "execution_count": 27,
   "metadata": {},
   "outputs": [
    {
     "data": {
      "text/plain": [
       "{'data': []}"
      ]
     },
     "execution_count": 27,
     "metadata": {},
     "output_type": "execute_result"
    }
   ],
   "source": [
    "friends"
   ]
  },
  {
   "cell_type": "code",
   "execution_count": 28,
   "metadata": {},
   "outputs": [
    {
     "data": {
      "text/plain": [
       "{'name': 'Zong Yijian', 'id': '1726541577519164'}"
      ]
     },
     "execution_count": 28,
     "metadata": {},
     "output_type": "execute_result"
    }
   ],
   "source": [
    "profile = graph.get_object(\"me\")\n",
    "profile"
   ]
  },
  {
   "cell_type": "code",
   "execution_count": 29,
   "metadata": {},
   "outputs": [
    {
     "data": {
      "text/plain": [
       "{'data': []}"
      ]
     },
     "execution_count": 29,
     "metadata": {},
     "output_type": "execute_result"
    }
   ],
   "source": [
    "friends = graph.get_connections(\"me\", \"friends\")\n",
    "friends"
   ]
  },
  {
   "cell_type": "code",
   "execution_count": null,
   "metadata": {},
   "outputs": [],
   "source": []
  }
 ],
 "metadata": {
  "kernelspec": {
   "display_name": "Python 3",
   "language": "python",
   "name": "python3"
  },
  "language_info": {
   "codemirror_mode": {
    "name": "ipython",
    "version": 3
   },
   "file_extension": ".py",
   "mimetype": "text/x-python",
   "name": "python",
   "nbconvert_exporter": "python",
   "pygments_lexer": "ipython3",
   "version": "3.7.2"
  }
 },
 "nbformat": 4,
 "nbformat_minor": 2
}
